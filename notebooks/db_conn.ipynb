{
 "cells": [
  {
   "cell_type": "code",
   "execution_count": 3,
   "metadata": {},
   "outputs": [],
   "source": [
    "import psycopg2\n",
    "from dotenv import load_dotenv\n",
    "import os"
   ]
  },
  {
   "cell_type": "code",
   "execution_count": 4,
   "metadata": {},
   "outputs": [],
   "source": [
    "# Carrega as variáveis de ambiente do arquivo .env\n",
    "load_dotenv()\n",
    "# Acesse as variáveis de ambiente carregadas\n",
    "HOST = os.getenv(\"HOST\")\n",
    "PORT = os.getenv(\"PORT\")\n",
    "DATABASE = os.getenv(\"DATABASE\")\n",
    "USER = os.getenv(\"USER\")\n",
    "PASSWORD = os.getenv(\"PASSWORD\")"
   ]
  },
  {
   "cell_type": "code",
   "execution_count": 5,
   "metadata": {},
   "outputs": [],
   "source": [
    "# Cria conexão com banco de dados\n",
    "def establish_connection():\n",
    "    conn = psycopg2.connect(\n",
    "        host=HOST,\n",
    "        port=PORT,\n",
    "        database=DATABASE,\n",
    "        user=USER,\n",
    "        password=PASSWORD,\n",
    "    )\n",
    "    return conn"
   ]
  },
  {
   "cell_type": "code",
   "execution_count": 11,
   "metadata": {},
   "outputs": [
    {
     "name": "stdout",
     "output_type": "stream",
     "text": [
      "('Pista A', datetime.datetime(2023, 6, 5, 14, 30), 1, 'Galgo 1', 'winner', Decimal('2.500'))\n",
      "('Pista A', datetime.datetime(2023, 6, 5, 14, 30), 2, 'Galgo 2', 'winner', Decimal('3.200'))\n",
      "('Pista A', datetime.datetime(2023, 6, 5, 14, 30), 3, 'Galgo 3', 'winner', Decimal('4.100'))\n",
      "('Pista B', datetime.datetime(2023, 6, 5, 15, 0), 1, 'Galgo 1', 'winner', Decimal('2.800'))\n",
      "('Pista B', datetime.datetime(2023, 6, 5, 15, 0), 2, 'Galgo 2', 'winner', Decimal('3.500'))\n",
      "('Pista B', datetime.datetime(2023, 6, 5, 15, 0), 3, 'Galgo 3', 'winner', Decimal('4.300'))\n"
     ]
    }
   ],
   "source": [
    "conn = establish_connection()\n",
    "cur = conn.cursor()\n",
    "\n",
    "query = 'SELECT * FROM odds'\n",
    "cur.execute(query)\n",
    "\n",
    "# Obter todos os resultados da consulta\n",
    "results = cur.fetchall()\n",
    "\n",
    "# Imprimir os resultados\n",
    "for row in results:\n",
    "    print(row)\n",
    "\n",
    "cur.close()\n",
    "conn.close()\n"
   ]
  },
  {
   "cell_type": "code",
   "execution_count": 8,
   "metadata": {},
   "outputs": [],
   "source": []
  }
 ],
 "metadata": {
  "kernelspec": {
   "display_name": "venv",
   "language": "python",
   "name": "python3"
  },
  "language_info": {
   "codemirror_mode": {
    "name": "ipython",
    "version": 3
   },
   "file_extension": ".py",
   "mimetype": "text/x-python",
   "name": "python",
   "nbconvert_exporter": "python",
   "pygments_lexer": "ipython3",
   "version": "3.11.2"
  },
  "orig_nbformat": 4
 },
 "nbformat": 4,
 "nbformat_minor": 2
}
